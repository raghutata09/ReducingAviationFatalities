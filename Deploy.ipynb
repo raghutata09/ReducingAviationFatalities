{
  "nbformat": 4,
  "nbformat_minor": 0,
  "metadata": {
    "colab": {
      "provenance": [],
      "collapsed_sections": []
    },
    "kernelspec": {
      "name": "python3",
      "display_name": "Python 3"
    },
    "language_info": {
      "name": "python"
    }
  },
  "cells": [
    {
      "cell_type": "code",
      "execution_count": 6,
      "metadata": {
        "colab": {
          "base_uri": "https://localhost:8080/"
        },
        "id": "kTsNJ90DzRuO",
        "outputId": "d357b229-2716-44bd-841d-cdbd88c389c0"
      },
      "outputs": [
        {
          "output_type": "stream",
          "name": "stdout",
          "text": [
            "Looking in indexes: https://pypi.org/simple, https://us-python.pkg.dev/colab-wheels/public/simple/\n",
            "Requirement already satisfied: flask-ngrok in /usr/local/lib/python3.7/dist-packages (0.0.25)\n",
            "Requirement already satisfied: requests in /usr/local/lib/python3.7/dist-packages (from flask-ngrok) (2.23.0)\n",
            "Requirement already satisfied: Flask>=0.8 in /usr/local/lib/python3.7/dist-packages (from flask-ngrok) (1.1.4)\n",
            "Requirement already satisfied: itsdangerous<2.0,>=0.24 in /usr/local/lib/python3.7/dist-packages (from Flask>=0.8->flask-ngrok) (1.1.0)\n",
            "Requirement already satisfied: click<8.0,>=5.1 in /usr/local/lib/python3.7/dist-packages (from Flask>=0.8->flask-ngrok) (7.1.2)\n",
            "Requirement already satisfied: Werkzeug<2.0,>=0.15 in /usr/local/lib/python3.7/dist-packages (from Flask>=0.8->flask-ngrok) (1.0.1)\n",
            "Requirement already satisfied: Jinja2<3.0,>=2.10.1 in /usr/local/lib/python3.7/dist-packages (from Flask>=0.8->flask-ngrok) (2.11.3)\n",
            "Requirement already satisfied: MarkupSafe>=0.23 in /usr/local/lib/python3.7/dist-packages (from Jinja2<3.0,>=2.10.1->Flask>=0.8->flask-ngrok) (2.0.1)\n",
            "Requirement already satisfied: certifi>=2017.4.17 in /usr/local/lib/python3.7/dist-packages (from requests->flask-ngrok) (2022.9.24)\n",
            "Requirement already satisfied: urllib3!=1.25.0,!=1.25.1,<1.26,>=1.21.1 in /usr/local/lib/python3.7/dist-packages (from requests->flask-ngrok) (1.24.3)\n",
            "Requirement already satisfied: idna<3,>=2.5 in /usr/local/lib/python3.7/dist-packages (from requests->flask-ngrok) (2.10)\n",
            "Requirement already satisfied: chardet<4,>=3.0.2 in /usr/local/lib/python3.7/dist-packages (from requests->flask-ngrok) (3.0.4)\n"
          ]
        }
      ],
      "source": [
        "!pip install flask-ngrok"
      ]
    },
    {
      "cell_type": "code",
      "source": [
        "!curl -s https://ngrok-agent.s3.amazonaws.com/ngrok.asc | sudo tee /etc/apt/trusted.gpg.d/ngrok.asc >/dev/null && echo \"deb https://ngrok-agent.s3.amazonaws.com buster main\" | sudo tee /etc/apt/sources.list.d/ngrok.list && sudo apt update && sudo apt install ngrok   "
      ],
      "metadata": {
        "colab": {
          "base_uri": "https://localhost:8080/"
        },
        "id": "zNQfHGQH35D-",
        "outputId": "bcddadb8-8636-4dfb-bdaa-158e1cf67062"
      },
      "execution_count": 7,
      "outputs": [
        {
          "output_type": "stream",
          "name": "stdout",
          "text": [
            "deb https://ngrok-agent.s3.amazonaws.com buster main\n",
            "Hit:1 https://cloud.r-project.org/bin/linux/ubuntu bionic-cran40/ InRelease\n",
            "Hit:2 http://security.ubuntu.com/ubuntu bionic-security InRelease\n",
            "Ign:3 https://developer.download.nvidia.com/compute/machine-learning/repos/ubuntu1804/x86_64  InRelease\n",
            "Hit:4 https://developer.download.nvidia.com/compute/cuda/repos/ubuntu1804/x86_64  InRelease\n",
            "Hit:5 https://developer.download.nvidia.com/compute/machine-learning/repos/ubuntu1804/x86_64  Release\n",
            "Hit:6 http://ppa.launchpad.net/c2d4u.team/c2d4u4.0+/ubuntu bionic InRelease\n",
            "Hit:7 https://ngrok-agent.s3.amazonaws.com buster InRelease\n",
            "Hit:8 http://archive.ubuntu.com/ubuntu bionic InRelease\n",
            "Hit:10 http://archive.ubuntu.com/ubuntu bionic-updates InRelease\n",
            "Hit:11 http://archive.ubuntu.com/ubuntu bionic-backports InRelease\n",
            "Hit:12 http://ppa.launchpad.net/cran/libgit2/ubuntu bionic InRelease\n",
            "Hit:13 http://ppa.launchpad.net/deadsnakes/ppa/ubuntu bionic InRelease\n",
            "Hit:14 http://ppa.launchpad.net/graphics-drivers/ppa/ubuntu bionic InRelease\n",
            "Reading package lists... Done\n",
            "Building dependency tree       \n",
            "Reading state information... Done\n",
            "8 packages can be upgraded. Run 'apt list --upgradable' to see them.\n",
            "Reading package lists... Done\n",
            "Building dependency tree       \n",
            "Reading state information... Done\n",
            "ngrok is already the newest version (3.1.0).\n",
            "The following package was automatically installed and is no longer required:\n",
            "  libnvidia-common-460\n",
            "Use 'sudo apt autoremove' to remove it.\n",
            "0 upgraded, 0 newly installed, 0 to remove and 8 not upgraded.\n"
          ]
        }
      ]
    },
    {
      "cell_type": "code",
      "source": [
        "!ngrok config add-authtoken 2HK8LVeJFv2vB0Oxs4gpyBYwhDx_DekdQZkN4JT3dFeihNMx"
      ],
      "metadata": {
        "colab": {
          "base_uri": "https://localhost:8080/"
        },
        "id": "FPJTHCSC4AV3",
        "outputId": "0b4af6d4-738a-4ce2-a30e-db892f495d6d"
      },
      "execution_count": 8,
      "outputs": [
        {
          "output_type": "stream",
          "name": "stdout",
          "text": [
            "Authtoken saved to configuration file: /root/.config/ngrok/ngrok.yml\n"
          ]
        }
      ]
    },
    {
      "cell_type": "code",
      "source": [
        "columns = ['crew', 'time', 'eeg_fp1', 'eeg_f7', 'eeg_f8', 'eeg_t4', 'eeg_t6', 'eeg_t5', 'eeg_t3', 'eeg_fp2',\n",
        "'eeg_o1', 'eeg_p3', 'eeg_pz', 'eeg_f3', 'eeg_fz', 'eeg_f4', 'eeg_c4', 'eeg_p4', 'eeg_poz', 'eeg_c3',\n",
        "'eeg_cz', 'eeg_o2', 'ecg', 'r', 'gsr', 'heart_rate', 'resp_rate', 'fp1_f7', 'f7_t3', 't3_t5',\n",
        "'t5_o1', 'p3_o1', 'c3_p3', 'f3_c3', 'fp1_f3', 'fz_cz', 'cz_pz', 'fp2_f4', 'f4_c4', 'c4_p4',\n",
        "'p4_o2', 't6_o2', 't4_t6', 'f8_t4', 'fp2_f8', 'eeg_fp1_theta', 'eeg_f7_theta', 'eeg_f8_theta', 'eeg_t4_theta', 'eeg_t6_theta',\n",
        "'eeg_t5_theta', 'eeg_t3_theta', 'eeg_fp2_theta', 'eeg_o1_theta', 'eeg_p3_theta', 'eeg_pz_theta', 'eeg_f3_theta', 'eeg_fz_theta', 'eeg_f4_theta', 'eeg_c4_theta',\n",
        "'eeg_p4_theta', 'eeg_poz_theta', 'eeg_c3_theta', 'eeg_cz_theta', 'eeg_o2_theta', 'eeg_fp1_alpha_low', 'eeg_f7_alpha_low', 'eeg_f8_alpha_low', 'eeg_t4_alpha_low', 'eeg_t6_alpha_low',\n",
        "'eeg_t5_alpha_low', 'eeg_t3_alpha_low', 'eeg_fp2_alpha_low', 'eeg_o1_alpha_low', 'eeg_p3_alpha_low', 'eeg_pz_alpha_low', 'eeg_f3_alpha_low', 'eeg_fz_alpha_low', 'eeg_f4_alpha_low', 'eeg_c4_alpha_low',\n",
        "'eeg_p4_alpha_low', 'eeg_poz_alpha_low', 'eeg_c3_alpha_low', 'eeg_cz_alpha_low', 'eeg_o2_alpha_low', 'eeg_fp1_alpha_high', 'eeg_f7_alpha_high', 'eeg_f8_alpha_high', 'eeg_t4_alpha_high', 'eeg_t6_alpha_high',\n",
        "'eeg_t5_alpha_high', 'eeg_t3_alpha_high', 'eeg_fp2_alpha_high', 'eeg_o1_alpha_high', 'eeg_p3_alpha_high', 'eeg_pz_alpha_high', 'eeg_f3_alpha_high', 'eeg_fz_alpha_high', 'eeg_f4_alpha_high', 'eeg_c4_alpha_high',\n",
        "'eeg_p4_alpha_high', 'eeg_poz_alpha_high', 'eeg_c3_alpha_high', 'eeg_cz_alpha_high', 'eeg_o2_alpha_high']\n",
        "\n",
        "\n",
        "def final_verdict(y):\n",
        " if (y == 0):\n",
        "  j = 'Predicted cognitive state: Baseline or No event'\n",
        " elif (y == 1):\n",
        "  j = 'Predicted cognitive state: Surprised or Startle'\n",
        " elif (y == 2):\n",
        "  j = 'Predicted cognitive state: Channelized attention'\n",
        " else:\n",
        "  j = 'Predicted cognitive state: Diverted attention'\n",
        " return j\n",
        "\n",
        "def check_features(test,columns):\n",
        " res = \"0\"\n",
        " if(len(test)==0):\n",
        "  res = \"Empty dictionary\"\n",
        "  return res\n",
        "\n",
        " print(\"+\"*50)\n",
        "\n",
        " if(len(test) != len(columns)):\n",
        "  res = \"Length of features entered and excpected features doesn't match. Expected features are 103 \" \\\n",
        "        \"and entered features are - \"+str(len(test))\n",
        "  return res\n",
        " print(\"*\"*50)\n",
        "\n",
        " not_matched_cols = [] # Features that are not matched with the expected features\n",
        " if(len(test) == len(columns)):\n",
        "  for k,v in test.items():\n",
        "   if(k in columns):\n",
        "    continue\n",
        "   else:\n",
        "    not_matched_cols.append(k)\n",
        "\n",
        " if(len(not_matched_cols)!=0):\n",
        "  res = \"Following columns are missing \"+str(not_matched_cols)\n",
        "  return res\n",
        "\n",
        " print(\"=\"*50)\n",
        "\n",
        " res = \"1\"\n",
        " return res\n"
      ],
      "metadata": {
        "id": "iKSkMx0z5_BS"
      },
      "execution_count": 66,
      "outputs": []
    },
    {
      "cell_type": "code",
      "source": [
        "final_res = {\"result\": \"9\"}"
      ],
      "metadata": {
        "id": "iaW4FyMs-fzA"
      },
      "execution_count": 35,
      "outputs": []
    },
    {
      "cell_type": "code",
      "source": [
        "final=[]\n",
        "def changeInArray(predict_x):\n",
        "  print(len(columns))\n",
        "  for k in columns:\n",
        "    final.append(predict_x[k])\n",
        "  print(len(final))\n",
        "  print(\"Changed in Array\")\n",
        "  return final\n",
        "\n"
      ],
      "metadata": {
        "id": "yv8LkE3UBAt2"
      },
      "execution_count": 72,
      "outputs": []
    },
    {
      "cell_type": "code",
      "source": [
        "from flask_ngrok import run_with_ngrok\n",
        "from flask import Flask, render_template,request\n",
        "from flask import Flask\n",
        "import pandas as pd\n",
        "import joblib\n",
        "import json\n",
        "import numpy as np\n",
        "\n",
        "app = Flask(__name__)\n",
        "\n",
        "run_with_ngrok(app)\n",
        "model = joblib.load('lgbm.pkl')\n",
        "print(model)\n",
        "print(\"-----------Model loaded-------------\")\n",
        "@app.route(\"/\")\n",
        "def home():\n",
        "  return f\"Running Flask on Google Colab!\"\n",
        "\n",
        "@app.route('/predict', methods=['POST'])\n",
        "def predict():\n",
        "  predict_x = request.get_json(force = True)\n",
        "  res = check_features(predict_x,columns)\n",
        "  if(res != \"1\"):\n",
        "    final_res['result']=res\n",
        "    return final_res\n",
        "\n",
        "  final = changeInArray(predict_x)\n",
        "  X = pd.DataFrame([final], columns=columns)\n",
        "\n",
        "  prediction = model.predict_proba(X)\n",
        "  final_pred = np.argmax(prediction, axis=1)\n",
        "  print(\"Prediction done\")\n",
        "  print (\"-\"*50)\n",
        "  print(\"prediction : \")\n",
        "  print(prediction)\n",
        "  print(\"final_pred : \")\n",
        "  print(final_pred)\n",
        "  final_res['result'] = final_verdict(final_pred)\n",
        "  print(final_res['result'])\n",
        "  return final_res\n",
        "\n",
        "app.run()"
      ],
      "metadata": {
        "colab": {
          "base_uri": "https://localhost:8080/"
        },
        "id": "ABaCbhKz4jA6",
        "outputId": "1b0d2681-7023-40f8-ab87-f6d808b6f036"
      },
      "execution_count": 73,
      "outputs": [
        {
          "output_type": "stream",
          "name": "stdout",
          "text": [
            "LGBMClassifier(bagging_fraction=0.2, colsample_bytree=0.2,\n",
            "               metric='multi_logloss', min_data_in_leaf=1, n_estimators=20,\n",
            "               num_classes=4, num_leaves=49, objective='multiclass')\n",
            "-----------Model loaded-------------\n",
            " * Serving Flask app \"__main__\" (lazy loading)\n",
            " * Environment: production\n",
            "\u001b[31m   WARNING: This is a development server. Do not use it in a production deployment.\u001b[0m\n",
            "\u001b[2m   Use a production WSGI server instead.\u001b[0m\n",
            " * Debug mode: off\n"
          ]
        },
        {
          "output_type": "stream",
          "name": "stderr",
          "text": [
            "INFO:werkzeug: * Running on http://127.0.0.1:5000/ (Press CTRL+C to quit)\n"
          ]
        },
        {
          "output_type": "stream",
          "name": "stdout",
          "text": [
            " * Running on http://8f92-35-229-198-127.ngrok.io\n",
            " * Traffic stats available on http://127.0.0.1:4040\n"
          ]
        },
        {
          "output_type": "stream",
          "name": "stderr",
          "text": [
            "INFO:werkzeug:127.0.0.1 - - [09/Nov/2022 20:45:33] \"\u001b[37mPOST /predict HTTP/1.1\u001b[0m\" 200 -\n"
          ]
        },
        {
          "output_type": "stream",
          "name": "stdout",
          "text": [
            "++++++++++++++++++++++++++++++++++++++++++++++++++\n",
            "**************************************************\n",
            "==================================================\n",
            "105\n",
            "105\n",
            "Changed in Array\n",
            "Prediction done\n",
            "--------------------------------------------------\n",
            "prediction : \n",
            "[[0.64605936 0.02408001 0.26314743 0.0667132 ]]\n",
            "final_pred : \n",
            "[0]\n",
            "Predicted cognitive state: Baseline or No event\n"
          ]
        }
      ]
    }
  ]
}